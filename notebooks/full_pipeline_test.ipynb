{
  "cells": [
    {
      "cell_type": "markdown",
      "metadata": {},
      "source": [
        "# Option Viz \u2014 Full Pipeline (Data \u2192 Preprocess)\n",
        "\n",
        "This notebook fetches an option chain (equity via **yfinance** or crypto via **OKX public**),\n",
        "then runs preprocessing:\n",
        "\n",
        "1. Compute robust **mid** prices and quote-quality flags (crossed/wide)\n",
        "2. **Put\u2013Call Parity** diagnostics and synthetic legs\n",
        "3. **Forward** estimation from PCP and **log\u2011moneyness**\n",
        "\n",
        "> Tip: If imports fail, make sure the repo root is on `PYTHONPATH` or run the setup cell below."
      ]
    },
    {
      "cell_type": "code",
      "execution_count": null,
      "metadata": {},
      "outputs": [],
      "source": [
        "# --- Setup: ensure src/ is importable; show versions ---\n",
        "import sys, os\n",
        "from pathlib import Path\n",
        "ROOT = Path.cwd()\n",
        "SRC = ROOT / \"src\"\n",
        "if str(SRC) not in sys.path:\n",
        "    sys.path.append(str(SRC))\n",
        "print(\"Using SRC:\", SRC)\n",
        "print(\"Python:\", sys.version.split()[0])\n",
        "try:\n",
        "    import pandas as pd, numpy as np, matplotlib\n",
        "    import httpx, yfinance\n",
        "    print(\"pandas:\", pd.__version__, \"numpy:\", np.__version__, \"matplotlib:\", matplotlib.__version__)\n",
        "    print(\"httpx:\", httpx.__version__, \"yfinance:\", getattr(yfinance, \"__version__\", \"unknown\"))\n",
        "except Exception as e:\n",
        "    print(\"Dependency check failed:\", e)\n"
      ]
    },
    {
      "cell_type": "markdown",
      "metadata": {},
      "source": [
        "## Select Backend & Underlying\n",
        "\n",
        "- For **equity**, try: `asset_class = \"equity\"`, `underlying = \"AAPL\"` (or `\"SPY\"`).\n",
        "- For **crypto**, try: `asset_class = \"crypto\"`, `underlying = \"BTC\"` (or `\"ETH\"`)."
      ]
    },
    {
      "cell_type": "code",
      "execution_count": null,
      "metadata": {},
      "outputs": [],
      "source": [
        "asset_class = \"equity\"   # \"equity\" or \"crypto\"\n",
        "underlying = \"AAPL\"       # e.g., \"AAPL\" or \"SPY\" for equity, \"BTC\" or \"ETH\" for crypto\n",
        "expiry_index = 0          # 0 = nearest expiry; increase if it's too close/empty\n",
        "\n",
        "# Preprocess knobs\n",
        "WIDE_REL_THRESHOLD = 0.15  # mark quotes wide when (ask-bid)/mid > 15%\n",
        "DAY_COUNT = 365.25         # year fraction denominator\n"
      ]
    },
    {
      "cell_type": "markdown",
      "metadata": {},
      "source": [
        "## Fetch Chain\n",
        "\n",
        "We use the factory `get_fetcher(asset_class)` \u2192 yfinance (equity) or OKX (crypto).\n",
        "\n",
        "Notebook-friendly `arun()` helper handles coroutines whether a loop is already running or not."
      ]
    },
    {
      "cell_type": "code",
      "execution_count": null,
      "metadata": {},
      "outputs": [],
      "source": [
        "import asyncio\n",
        "def arun(coro):\n",
        "    \"\"\"Run a coroutine in notebooks (handles existing event loop).\"\"\"\n",
        "    try:\n",
        "        loop = asyncio.get_running_loop()\n",
        "    except RuntimeError:\n",
        "        return asyncio.run(coro)\n",
        "    else:\n",
        "        # Re-enter running loop using nest_asyncio if available\n",
        "        try:\n",
        "            import nest_asyncio\n",
        "            nest_asyncio.apply(loop)\n",
        "            return loop.run_until_complete(coro)\n",
        "        except Exception as e:\n",
        "            raise RuntimeError(\"An asyncio loop is running and nest_asyncio is not available.\\n\"\n",
        "                               \"Install it with: pip install nest_asyncio\") from e\n",
        "\n",
        "from data.registry import get_fetcher\n",
        "from data.historical_loader import chain_to_dataframe, save_chain_csv\n",
        "\n",
        "fetcher = get_fetcher(asset_class)\n",
        "expiries = arun(fetcher.list_expiries(underlying))\n",
        "assert expiries, f\"No expiries returned for {underlying} ({asset_class})\"\n",
        "expiries_sorted = sorted(expiries)\n",
        "expiry = expiries_sorted[min(expiry_index, len(expiries_sorted)-1)]\n",
        "print(f\"Selected expiry: {expiry.date().isoformat()}  | total expiries: {len(expiries_sorted)}\")\n",
        "chain = arun(fetcher.fetch_chain(underlying, expiry))\n",
        "print(f\"Spot: {chain.spot} | Quotes: {len(chain.quotes)} | AsOf: {chain.asof_utc}\")\n",
        "\n",
        "try:\n",
        "    df = chain_to_dataframe(chain)\n",
        "except Exception:\n",
        "    # Fallback conversion if helper is unavailable\n",
        "    import pandas as pd\n",
        "    rows = []\n",
        "    for q in chain.quotes:\n",
        "        rows.append({\n",
        "            \"symbol\": q.symbol,\n",
        "            \"underlying\": q.underlying,\n",
        "            \"asset_class\": q.asset_class,\n",
        "            \"expiry\": q.expiry,\n",
        "            \"strike\": q.strike,\n",
        "            \"type\": getattr(q, \"opt_type\", getattr(q, \"type\", None)),\n",
        "            \"bid\": q.bid,\n",
        "            \"ask\": q.ask,\n",
        "            \"last\": q.last,\n",
        "            \"mark\": q.mark,\n",
        "            \"volume\": q.volume,\n",
        "            \"open_interest\": q.open_interest,\n",
        "            \"contract_size\": q.contract_size,\n",
        "            \"underlying_ccy\": q.underlying_ccy,\n",
        "            \"quote_ccy\": q.quote_ccy,\n",
        "        })\n",
        "    df = pd.DataFrame(rows)\n",
        "print(df.head())\n",
        "\n",
        "# Save a CSV snapshot\n",
        "Path(\"out\").mkdir(exist_ok=True, parents=True)\n",
        "csv_path = Path(\"out\") / f\"{underlying}_{expiry.date().isoformat()}_{asset_class}.csv\"\n",
        "try:\n",
        "    save_chain_csv(csv_path, chain)\n",
        "except Exception:\n",
        "    df.to_csv(csv_path, index=False)\n",
        "print(\"Saved:\", csv_path)\n"
      ]
    },
    {
      "cell_type": "markdown",
      "metadata": {},
      "source": [
        "## Preprocess: mids, PCP, forward, log\u2011moneyness"
      ]
    },
    {
      "cell_type": "code",
      "execution_count": null,
      "metadata": {},
      "outputs": [],
      "source": [
        "import numpy as np\n",
        "from preprocess.midprice import add_midprice_columns\n",
        "from preprocess.pcp import add_pcp_diagnostics\n",
        "from preprocess.forward import forward_price, log_moneyness, estimate_forward_from_chain\n",
        "from data.risk_free import RiskFreeProvider, RiskFreeConfig\n",
        "\n",
        "# 1) Robust mids + flags\n",
        "dfp = add_midprice_columns(df, bid_col=\"bid\", ask_col=\"ask\", out_prefix=\"\", wide_rel_threshold=WIDE_REL_THRESHOLD)\n",
        "print(\"Rows with both sides:\", int((dfp[\"side_used\"]==\"both\").sum()))\n",
        "print(\"Crossed:\", int(dfp[\"crossed\"].sum()), \"| Wide:\", int(dfp[\"wide\"].sum()))\n",
        "\n",
        "# 2) Risk-free rate and year fraction\n",
        "asof = getattr(chain, \"asof_utc\", None)\n",
        "T = max((expiry - asof).total_seconds()/(DAY_COUNT*24*3600), 1e-8)\n",
        "rf = RiskFreeProvider(RiskFreeConfig(default_rate=0.05, forward_fill=True))\n",
        "r = rf.get_rate(asof.date()) if hasattr(asof, \"date\") else 0.05\n",
        "print(f\"T ~ {T:.6f} years | r ~ {r:.4f}\")\n",
        "\n",
        "# 3) PCP diagnostics and forward estimate\n",
        "# Ensure we have a 'type' column with 'C'/'P'\n",
        "if \"type\" not in dfp.columns and \"opt_type\" in dfp.columns:\n",
        "    dfp[\"type\"] = dfp[\"opt_type\"]\n",
        "diag = add_pcp_diagnostics(dfp, spot=chain.spot or np.nan, r=r, T=T, price_col=\"mid\", type_col=\"type\", strike_col=\"strike\")\n",
        "print(\"PCP diagnostics head:\\n\", diag.head())\n",
        "\n",
        "F_est = estimate_forward_from_chain(dfp, r=r, T=T, price_col=\"mid\", type_col=\"type\", strike_col=\"strike\", spot_hint=chain.spot)\n",
        "print(f\"Estimated forward F \u2248 {F_est:.6f}\")\n",
        "\n",
        "# 4) Log\u2011moneyness\n",
        "dfp[\"k\"] = np.log(dfp[\"strike\"].astype(float) / F_est)\n",
        "print(dfp[[\"strike\",\"type\",\"mid\",\"rel_spread\",\"k\"]].head())\n"
      ]
    },
    {
      "cell_type": "markdown",
      "metadata": {},
      "source": [
        "## Quick Visuals\n",
        "Simple Matplotlib plots to eyeball the data quality and PCP behavior."
      ]
    },
    {
      "cell_type": "code",
      "execution_count": null,
      "metadata": {},
      "outputs": [],
      "source": [
        "import matplotlib.pyplot as plt\n",
        "import pandas as pd\n",
        "\n",
        "fig1 = plt.figure(figsize=(7,4))\n",
        "ax = fig1.gca()\n",
        "dfc = dfp[dfp[\"type\"].astype(str).str.upper().eq(\"C\")]\n",
        "dfp_ = dfp[dfp[\"type\"].astype(str).str.upper().eq(\"P\")]\n",
        "ax.scatter(dfc[\"strike\"], dfc[\"mid\"], s=10, label=\"Calls\")\n",
        "ax.scatter(dfp_[\"strike\"], dfp_[\"mid\"], s=10, label=\"Puts\")\n",
        "ax.set_xlabel(\"Strike\")\n",
        "ax.set_ylabel(\"Mid price\")\n",
        "ax.set_title(f\"{underlying} mids @ {expiry.date().isoformat()} ({asset_class})\")\n",
        "ax.legend()\n",
        "plt.show()\n",
        "\n",
        "fig2 = plt.figure(figsize=(7,3.8))\n",
        "ax2 = fig2.gca()\n",
        "ax2.plot(diag.index, diag[\"residual\"], marker=\"o\", linestyle=\"none\", ms=3)\n",
        "ax2.axhline(0, linestyle=\"--\")\n",
        "ax2.set_xlabel(\"Strike\")\n",
        "ax2.set_ylabel(\"PCP residual\")\n",
        "ax2.set_title(\"Put\u2013Call parity residual vs strike\")\n",
        "plt.show()\n"
      ]
    },
    {
      "cell_type": "markdown",
      "metadata": {},
      "source": [
        "## Save artifacts\n",
        "CSV/PNG outputs land in `out/` for easy sharing."
      ]
    },
    {
      "cell_type": "code",
      "execution_count": null,
      "metadata": {},
      "outputs": [],
      "source": [
        "OUT = Path(\"out\")\n",
        "OUT.mkdir(exist_ok=True, parents=True)\n",
        "\n",
        "dfp_path = OUT / f\"{underlying}_{expiry.date().isoformat()}_{asset_class}_preprocess.csv\"\n",
        "dfp.to_csv(dfp_path, index=False)\n",
        "print(\"Saved:\", dfp_path)\n",
        "\n",
        "fig1_path = OUT / f\"{underlying}_{expiry.date().isoformat()}_{asset_class}_mids.png\"\n",
        "fig2_path = OUT / f\"{underlying}_{expiry.date().isoformat()}_{asset_class}_pcp_residual.png\"\n",
        "try:\n",
        "    fig1.savefig(fig1_path, dpi=140, bbox_inches=\"tight\")\n",
        "    fig2.savefig(fig2_path, dpi=140, bbox_inches=\"tight\")\n",
        "    print(\"Saved:\", fig1_path)\n",
        "    print(\"Saved:\", fig2_path)\n",
        "except Exception as e:\n",
        "    print(\"Plot save failed:\", e)\n"
      ]
    }
  ],
  "metadata": {
    "kernelspec": {
      "display_name": "Python 3",
      "language": "python",
      "name": "python3"
    },
    "language_info": {
      "name": "python",
      "version": "3.11.8"
    }
  },
  "nbformat": 4,
  "nbformat_minor": 5
}