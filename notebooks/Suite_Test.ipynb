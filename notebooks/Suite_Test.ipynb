{
 "cells": [
  {
   "cell_type": "markdown",
   "metadata": {},
   "source": [
    "# Option Viz — Full Suite Test\n",
    "\n",
    "End‑to‑end validation of the pipeline:\n",
    "\n",
    "1. **Data**: fetch option chains (equity via `yfinance`, crypto via OKX public)\n",
    "2. **Preprocess**: robust mids/flags → forward & log‑moneyness helpers\n",
    "3. **SVI (per expiry)**: fit total variance smiles\n",
    "4. **Surface (across maturities)**: smooth params over time; calendar checks\n",
    "5. **No‑arb diagnostics**: butterfly convexity on raw call mids\n",
    "6. **Artifacts**: smile overlay plots and tidy CSV exports\n",
    "\n",
    "> Designed to be **copy‑runnable** on a fresh clone after installing `requirements.txt`. No API keys required."
   ]
  },
  {
   "cell_type": "markdown",
   "metadata": {},
   "source": [
    "## 📦 What this notebook uses\n",
    "\n",
    "- `src/data`: `registry`, `historical_loader`, `risk_free`\n",
    "- `src/preprocess`: `midprice` (+ optional `pcp`, `forward` if present)\n",
    "- `src/vol`: `svi`, `surface`, `no_arb`\n",
    "\n",
    "If a helper is missing (e.g., `estimate_forward_from_pcp`), we **fallback** to a basic carry model forward."
   ]
  },
  {
   "cell_type": "code",
   "execution_count": null,
   "metadata": {
    "tags": [
     "setup"
    ]
   },
   "outputs": [],
   "source": [
    "# Make src/ importable and enable nested asyncio (required in Jupyter)\n",
    "import sys, platform\n",
    "from pathlib import Path\n",
    "\n",
    "repo = Path.cwd()\n",
    "sys.path.insert(0, str((repo / 'src').resolve()))\n",
    "\n",
    "import nest_asyncio\n",
    "\n",
    "nest_asyncio.apply()\n",
    "\n",
    "import asyncio\n",
    "import numpy as np\n",
    "import pandas as pd\n",
    "import matplotlib.pyplot as plt\n",
    "from datetime import datetime\n",
    "\n",
    "print(\n",
    "    'Python:',\n",
    "    sys.version.split()[0],\n",
    "    '| OS:',\n",
    "    platform.system(),\n",
    "    platform.release(),\n",
    ")\n",
    "%matplotlib inline"
   ]
  },
  {
   "cell_type": "markdown",
   "metadata": {},
   "source": [
    "## 🔧 Parameters\n",
    "\n",
    "- You can test **multiple (asset_class, underlying)** pairs in one run.\n",
    "- We fit a handful of **nearest expiries** to keep execution quick."
   ]
  },
  {
   "cell_type": "code",
   "execution_count": null,
   "metadata": {
    "tags": [
     "parameters"
    ]
   },
   "outputs": [],
   "source": [
    "# Pairs to run (toggle as you wish)\n",
    "runs = [\n",
    "    (\"equity\", \"AAPL\"),\n",
    "    (\"crypto\", \"BTC\"),\n",
    "]\n",
    "\n",
    "# How many expiries per asset to fit\n",
    "n_expiries = 3\n",
    "expiry_offset = 0  # set to 1 if the very front is too illiquid\n",
    "\n",
    "# Preprocess thresholds\n",
    "wide_rel_threshold = 0.20  # flag wide if (ask-bid)/mid > 20%\n",
    "\n",
    "# Output dir for artifacts\n",
    "out_dir = Path('out')\n",
    "out_dir.mkdir(exist_ok=True)\n",
    "\n",
    "# Plotting\n",
    "figsize = (6, 4)\n",
    "show_scatter = True"
   ]
  },
  {
   "cell_type": "markdown",
   "metadata": {},
   "source": [
    "## 🧱 Imports from the project\n",
    "\n",
    "We import backends, preprocess helpers, and the SVI/surface/no‑arb modules."
   ]
  },
  {
   "cell_type": "code",
   "execution_count": null,
   "metadata": {
    "tags": [
     "imports"
    ]
   },
   "outputs": [],
   "source": [
    "from data.registry import get_fetcher\n",
    "from data.historical_loader import chain_to_dataframe\n",
    "from data.risk_free import RiskFreeProvider, RiskFreeConfig\n",
    "from preprocess.midprice import add_midprice_columns\n",
    "\n",
    "try:\n",
    "    from preprocess.forward import estimate_forward_from_pcp\n",
    "\n",
    "    HAVE_FORWARD = True\n",
    "except Exception:\n",
    "    HAVE_FORWARD = False\n",
    "try:\n",
    "    from preprocess.pcp import synthesize_missing_leg\n",
    "\n",
    "    HAVE_PCP = True\n",
    "except Exception:\n",
    "    HAVE_PCP = False\n",
    "\n",
    "from vol.svi import prepare_smile_data\n",
    "from vol.surface import fit_surface_from_frames, smooth_params, sample_grid\n",
    "from vol.no_arb import butterfly_violations\n",
    "\n",
    "print('Helpers: forward=', HAVE_FORWARD, ', pcp=', HAVE_PCP)"
   ]
  },
  {
   "cell_type": "markdown",
   "metadata": {},
   "source": [
    "## 🧮 Helper functions\n",
    "\n",
    "Small utilities to compute year fractions, forwards, and to fetch & prepare frames/maps needed for SVI fits."
   ]
  },
  {
   "cell_type": "code",
   "execution_count": null,
   "metadata": {
    "tags": [
     "helpers"
    ]
   },
   "outputs": [],
   "source": [
    "def yearfrac(asof: datetime, expiry: datetime) -> float:\n",
    "    \"\"\"ACT/365.25 approximation; guard against T≈0.\"\"\"\n",
    "    return max((expiry - asof).total_seconds() / 31557600.0, 1e-12)\n",
    "\n",
    "\n",
    "def forward_from_carry(spot: float, r: float, T: float) -> float:\n",
    "    \"\"\"No-dividend forward: F = S * exp(rT).\"\"\"\n",
    "    return float(spot) * float(np.exp(r * T))\n",
    "\n",
    "\n",
    "def extract_call_curve(df: pd.DataFrame):\n",
    "    \"\"\"Return sorted (K, C_mid) arrays for call quotes only, if present.\"\"\"\n",
    "    d = df.copy()\n",
    "    d = d[d['type'].astype(str).str.upper().str.startswith('C')]\n",
    "    d = d.dropna(subset=['strike', 'mid'])\n",
    "    d = d.sort_values('strike')\n",
    "    return d['strike'].to_numpy(float), d['mid'].to_numpy(float)\n",
    "\n",
    "\n",
    "async def build_frames(\n",
    "    asset_class: str,\n",
    "    underlying: str,\n",
    "    *,\n",
    "    n_expiries: int,\n",
    "    expiry_offset: int,\n",
    "    wide_rel_threshold: float,\n",
    "):\n",
    "    \"\"\"\n",
    "    Fetch `n_expiries` maturities for (asset_class, underlying), build mids/flags, and\n",
    "    assemble per-expiry T/F/r maps.\n",
    "    - r: SOFR via RiskFreeProvider if available, else 0.0 fallback\n",
    "    - F: prefer PCP estimator if provided; otherwise carry model\n",
    "    \"\"\"\n",
    "    fetcher = get_fetcher(asset_class)\n",
    "    expiries = sorted(await fetcher.list_expiries(underlying))\n",
    "    chosen = expiries[expiry_offset : expiry_offset + n_expiries]\n",
    "    rf = RiskFreeProvider(RiskFreeConfig())\n",
    "\n",
    "    frames = {}\n",
    "    T_map, F_map, r_map = {}, {}, {}\n",
    "    asof_global = None\n",
    "\n",
    "    for exp in chosen:\n",
    "        chain = await fetcher.fetch_chain(underlying, exp)\n",
    "        if asof_global is None:\n",
    "            asof_global = chain.asof_utc\n",
    "        df = chain_to_dataframe(chain)\n",
    "        df = add_midprice_columns(df, wide_rel_threshold=wide_rel_threshold)\n",
    "\n",
    "        # Risk-free (graceful fallback to 0.0)\n",
    "        try:\n",
    "            r = float(rf.get_rate(chain.asof_utc.date()))\n",
    "        except Exception:\n",
    "            r = 0.0\n",
    "\n",
    "        # Time to maturity\n",
    "        T = yearfrac(chain.asof_utc, exp)\n",
    "\n",
    "        # Forward estimate\n",
    "        if HAVE_FORWARD:\n",
    "            try:\n",
    "                F_est = float(estimate_forward_from_pcp(df, r=r, T=T))\n",
    "            except Exception:\n",
    "                F_est = forward_from_carry(chain.spot, r, T)\n",
    "        else:\n",
    "            F_est = forward_from_carry(chain.spot, r, T)\n",
    "\n",
    "        frames[exp] = df\n",
    "        T_map[exp], F_map[exp], r_map[exp] = T, F_est, r\n",
    "\n",
    "    return frames, T_map, F_map, r_map, asof_global"
   ]
  },
  {
   "cell_type": "markdown",
   "metadata": {},
   "source": [
    "## 🚀 Run the suite for each (asset_class, underlying)\n",
    "\n",
    "For each pair we:\n",
    "1. Fetch & preprocess\n",
    "2. Fit SVI per expiry and stitch a surface\n",
    "3. Smooth params over T\n",
    "4. Calendar and butterfly checks\n",
    "5. Plot a smile overlay and export artifacts\n",
    "6. Append metrics to a consolidated results table"
   ]
  },
  {
   "cell_type": "code",
   "execution_count": null,
   "metadata": {
    "tags": [
     "suite"
    ]
   },
   "outputs": [],
   "source": [
    "all_rows = []\n",
    "\n",
    "for asset_class, underlying in runs:\n",
    "    print(f\"\\n=== {asset_class.upper()} — {underlying} ===\")\n",
    "    try:\n",
    "        frames_by_expiry, T_map, F_map, r_map, ASOF = asyncio.run(\n",
    "            build_frames(\n",
    "                asset_class,\n",
    "                underlying,\n",
    "                n_expiries=n_expiries,\n",
    "                expiry_offset=expiry_offset,\n",
    "                wide_rel_threshold=wide_rel_threshold,\n",
    "            )\n",
    "        )\n",
    "\n",
    "        # Fit + smooth surface\n",
    "        surface = fit_surface_from_frames(\n",
    "            frames_by_expiry,\n",
    "            T_by_expiry=T_map,\n",
    "            F_by_expiry=F_map,\n",
    "            r_by_expiry=r_map,\n",
    "        )\n",
    "        surf_smooth = smooth_params(surface, method='cubic_spline')\n",
    "\n",
    "        # Calendar diag\n",
    "        k_grid = np.linspace(-1.0, 1.0, 101)\n",
    "        cal = surf_smooth.calendar_violations(k_grid=k_grid, tol=-1e-9)\n",
    "\n",
    "        # Butterfly on first expiry raw calls\n",
    "        first_exp = sorted(frames_by_expiry.keys())[0]\n",
    "        df0 = frames_by_expiry[first_exp]\n",
    "        K_calls, C_calls = extract_call_curve(df0)\n",
    "        if K_calls.size >= 5:\n",
    "            butter = butterfly_violations(K_calls, C_calls, tol=1e-8)\n",
    "        else:\n",
    "            butter = {\"fraction\": 0.0, \"count\": 0, \"n_interior\": 0}\n",
    "\n",
    "        # Plot smile overlay for first expiry\n",
    "        F0 = float(F_map[first_exp])\n",
    "        K_line = np.linspace(\n",
    "            float(df0['strike'].min()), float(df0['strike'].max()), 200\n",
    "        )\n",
    "        iv_line = surf_smooth.iv(K_line, first_exp)\n",
    "        k_line = np.log(K_line / F0)\n",
    "        plt.figure(figsize=figsize)\n",
    "        if show_scatter and 'iv' in df0.columns and df0['iv'].notna().any():\n",
    "            plt.scatter(\n",
    "                np.log(df0['strike'] / F0), df0['iv'], s=10, label='market iv'\n",
    "            )\n",
    "        plt.plot(k_line, iv_line, label='SVI fit (surface)')\n",
    "        plt.xlabel('log-moneyness  k')\n",
    "        plt.ylabel('implied vol')\n",
    "        plt.legend()\n",
    "        plt.tight_layout()\n",
    "        plt.show()\n",
    "\n",
    "        # Export artifacts\n",
    "        png_path = out_dir / f'smile_{asset_class}_{underlying}.png'\n",
    "        plt.figure(figsize=(6, 4))\n",
    "        plt.plot(k_line, iv_line)\n",
    "        plt.xlabel('log-moneyness  k')\n",
    "        plt.ylabel('implied vol')\n",
    "        plt.tight_layout()\n",
    "        plt.savefig(png_path, dpi=144)\n",
    "\n",
    "        # Grid export over all selected expiries\n",
    "        K_list = np.linspace(\n",
    "            float(df0['strike'].min()), float(df0['strike'].max()), 25\n",
    "        )\n",
    "        grid_df = sample_grid(\n",
    "            surf_smooth,\n",
    "            K_list=K_list,\n",
    "            expiry_list=sorted(frames_by_expiry.keys()),\n",
    "        )\n",
    "        csv_path = out_dir / f'grid_{asset_class}_{underlying}.csv'\n",
    "        grid_df.to_csv(csv_path, index=False)\n",
    "\n",
    "        # Summarize per-expiry fit metrics\n",
    "        for exp, fit in surf_smooth.fits.items():\n",
    "            all_rows.append(\n",
    "                {\n",
    "                    \"asset_class\": asset_class,\n",
    "                    \"underlying\": underlying,\n",
    "                    \"asof\": ASOF.isoformat() if ASOF else None,\n",
    "                    \"expiry\": exp.date().isoformat(),\n",
    "                    \"T\": float(T_map[exp]),\n",
    "                    \"F\": float(F_map[exp]),\n",
    "                    \"rho\": float(fit.rho),\n",
    "                    \"sigma\": float(fit.sigma),\n",
    "                    \"loss\": float(getattr(fit, 'loss', np.nan)),\n",
    "                    \"n_used\": int(getattr(fit, 'n_used', 0)),\n",
    "                    \"calendar_frac\": float(cal.get('fraction', np.nan)),\n",
    "                    \"butterfly_frac\": float(butter.get('fraction', 0.0)),\n",
    "                    \"notes\": getattr(fit, 'notes', ''),\n",
    "                }\n",
    "            )\n",
    "\n",
    "    except Exception as e:\n",
    "        print('ERROR:', e)\n",
    "        continue\n",
    "\n",
    "summary_df = pd.DataFrame(all_rows)\n",
    "summary_df"
   ]
  },
  {
   "cell_type": "markdown",
   "metadata": {},
   "source": [
    "## 📊 Results summary\n",
    "\n",
    "- `loss` is the (vega‑weighted) SVI fit objective (lower is better)\n",
    "- `n_used` counts quotes included in the fit\n",
    "- `calendar_frac` is the fraction of k‑grid points that violate calendar monotonicity (target **≈ 0**) \n",
    "- `butterfly_frac` is the share of interior points where raw call mids show negative discrete curvature (target **≈ 0**)"
   ]
  },
  {
   "cell_type": "code",
   "execution_count": null,
   "metadata": {
    "tags": [
     "save-summary"
    ]
   },
   "outputs": [],
   "source": [
    "sum_csv = out_dir / 'suite_summary.csv'\n",
    "summary_df.to_csv(sum_csv, index=False)\n",
    "sum_csv"
   ]
  },
  {
   "cell_type": "markdown",
   "metadata": {},
   "source": [
    "## 🧩 Appendix — troubleshooting tips\n",
    "\n",
    "- If the very front expiry is noisy/empty, set `expiry_offset = 1`.\n",
    "- If `RiskFreeProvider` has no SOFR CSV in your environment, the rate falls back to **0.0** (fine for a quick test).\n",
    "- If `estimate_forward_from_pcp` raises (sparse pairs), we fallback to **carry**: `F = S * exp(rT)`.\n",
    "- Calendar checks use a simple grid `k ∈ [−1, 1]`. For assets with very wide moneyness, expand this grid.\n",
    "- Plots hide styling to keep dependencies minimal; feel free to adapt for your report."
   ]
  }
 ],
 "metadata": {
  "kernelspec": {
   "display_name": "Python 3",
   "language": "python",
   "name": "python3"
  },
  "language_info": {
   "name": "python",
   "version": "3.10"
  }
 },
 "nbformat": 4,
 "nbformat_minor": 5
}