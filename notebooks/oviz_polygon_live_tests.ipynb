{
 "cells": [
  {
   "cell_type": "markdown",
   "id": "e0cd7709",
   "metadata": {},
   "source": [
    "\n",
    "# Option Viz — **Polygon Live Data** Notebook\n",
    "\n",
    "This notebook fetches **real option chains from Polygon.io** and then runs your pipeline:\n",
    "**midprice → PCP/forward → IVs → SVI fits/surface → BL density**, with plots.\n",
    "\n",
    "> **Requirements**\n",
    "> - Set `POLYGON_API_KEY` in your environment.\n",
    "> - Internet access enabled when you run this locally.\n",
    "> - Pick an equity ticker (e.g., `NVDA`, `AAPL`).\n",
    "\n",
    "**Sections**\n",
    "1. Bootstrap project modules → `src.*` packages  \n",
    "2. Configure Polygon + risk-free provider  \n",
    "3. Fetch expiries & select sample maturities  \n",
    "4. Fetch chains → normalize → midprice & quality plots  \n",
    "5. Forward estimation via PCP and k-grid  \n",
    "6. Implied vols (prefer venue IV, else Black-76 from mid calls)  \n",
    "7. SVI fits per expiry + smile plots  \n",
    "8. IV surface sketch & calendar sanity  \n",
    "9. BL density from smoothed call curve (PDF, CDF, moments)\n"
   ]
  },
  {
   "cell_type": "markdown",
   "id": "3b3c17b5",
   "metadata": {},
   "source": [
    "## 1) Bootstrap modules into `src.*`"
   ]
  },
  {
   "cell_type": "code",
   "execution_count": 1,
   "id": "b42adfd4",
   "metadata": {},
   "outputs": [
    {
     "name": "stdout",
     "output_type": "stream",
     "text": [
      "OK  | src.data.base <- data/base.py\n",
      "FAIL| src.data.registry: No module named 'src.data.okx_fetcher'; 'src.data' is not a package\n"
     ]
    },
    {
     "name": "stderr",
     "output_type": "stream",
     "text": [
      "python-dotenv could not parse statement starting at line 6\n"
     ]
    },
    {
     "name": "stdout",
     "output_type": "stream",
     "text": [
      "OK  | src.data.yf_fetcher <- data/yf_fetcher.py\n",
      "OK  | src.data.polygon_fetcher <- data/polygon_fetcher.py\n",
      "OK  | src.data.okx_fetcher <- data/okx_fetcher.py\n",
      "OK  | src.data.cache <- data/cache.py\n",
      "OK  | src.data.rate_limit <- data/rate_limit.py\n",
      "OK  | src.data.historical_loader <- data/historical_loader.py\n",
      "OK  | src.data.risk_free <- data/risk_free.py\n",
      "OK  | src.data.risk_free_fetchers <- data/risk_free_fetchers.py\n",
      "OK  | src.preprocess.forward <- preprocess/forward.py\n",
      "OK  | src.preprocess.midprice <- preprocess/midprice.py\n",
      "OK  | src.preprocess.pcp <- preprocess/pcp.py\n",
      "OK  | src.vol.no_arb <- vol/no_arb.py\n",
      "OK  | src.vol.svi <- vol/svi.py\n",
      "OK  | src.vol.surface <- vol/surface.py\n",
      "OK  | src.density.bl <- density/bl.py\n",
      "OK  | src.density.cdf <- density/cdf.py\n",
      "Loaded 17 modules.\n"
     ]
    }
   ],
   "source": [
    "import sys, types, importlib.util\n",
    "from pathlib import Path\n",
    "\n",
    "BASE = Path(\"C:\\\\Users\\\\drewv\\\\Documents\\\\option-density-viz\\\\src\")\n",
    "\n",
    "\n",
    "def ensure_pkg(name: str):\n",
    "    if name in sys.modules:\n",
    "        return sys.modules[name]\n",
    "    mod = types.ModuleType(name)\n",
    "    mod.__package__ = name\n",
    "    sys.modules[name] = mod\n",
    "    return mod\n",
    "\n",
    "\n",
    "for pkg in [\"src\", \"src.data\", \"src.preprocess\", \"src.vol\", \"src.density\"]:\n",
    "    ensure_pkg(pkg)\n",
    "\n",
    "\n",
    "def load_as(name: str, filepath: Path):\n",
    "    spec = importlib.util.spec_from_file_location(name, filepath)\n",
    "    mod = importlib.util.module_from_spec(spec)\n",
    "    sys.modules[name] = mod\n",
    "    assert spec and spec.loader, f\"Cannot load spec for {name}\"\n",
    "    spec.loader.exec_module(mod)\n",
    "    return mod\n",
    "\n",
    "\n",
    "mapping = {\n",
    "    # data\n",
    "    \"data/base.py\": \"src.data.base\",\n",
    "    \"data/registry.py\": \"src.data.registry\",\n",
    "    \"data/yf_fetcher.py\": \"src.data.yf_fetcher\",\n",
    "    \"data/polygon_fetcher.py\": \"src.data.polygon_fetcher\",\n",
    "    \"data/okx_fetcher.py\": \"src.data.okx_fetcher\",\n",
    "    \"data/cache.py\": \"src.data.cache\",\n",
    "    \"data/rate_limit.py\": \"src.data.rate_limit\",\n",
    "    \"data/historical_loader.py\": \"src.data.historical_loader\",\n",
    "    \"data/risk_free.py\": \"src.data.risk_free\",\n",
    "    \"data/risk_free_fetchers.py\": \"src.data.risk_free_fetchers\",\n",
    "    # preprocess\n",
    "    \"preprocess/forward.py\": \"src.preprocess.forward\",\n",
    "    \"preprocess/midprice.py\": \"src.preprocess.midprice\",\n",
    "    \"preprocess/pcp.py\": \"src.preprocess.pcp\",\n",
    "    # vol\n",
    "    \"vol/no_arb.py\": \"src.vol.no_arb\",\n",
    "    \"vol/svi.py\": \"src.vol.svi\",\n",
    "    \"vol/surface.py\": \"src.vol.surface\",\n",
    "    # density\n",
    "    \"density/bl.py\": \"src.density.bl\",\n",
    "    \"density/cdf.py\": \"src.density.cdf\",\n",
    "}\n",
    "loaded = {}\n",
    "for fname, modname in mapping.items():\n",
    "    try:\n",
    "        loaded[modname] = load_as(modname, BASE / fname)\n",
    "        print(f\"OK  | {modname} <- {fname}\")\n",
    "    except Exception as e:\n",
    "        print(f\"FAIL| {modname}: {e}\")\n",
    "print(f\"Loaded {len(loaded)} modules.\")"
   ]
  },
  {
   "cell_type": "markdown",
   "id": "2b134a65",
   "metadata": {},
   "source": [
    "## 2) Imports & configuration"
   ]
  },
  {
   "cell_type": "code",
   "execution_count": 3,
   "id": "b7872eac",
   "metadata": {},
   "outputs": [
    {
     "name": "stdout",
     "output_type": "stream",
     "text": [
      "Ticker: NVDA | Expiries to analyze: 3\n"
     ]
    }
   ],
   "source": [
    "import os, math, asyncio, numpy as np, pandas as pd\n",
    "import matplotlib.pyplot as plt\n",
    "from datetime import datetime, timezone\n",
    "\n",
    "# Core types & IO\n",
    "from src.data.base import OptionChain\n",
    "from src.data.historical_loader import chain_to_dataframe\n",
    "\n",
    "# Fetchers & rate\n",
    "from src.data.polygon_fetcher import PolygonFetcher\n",
    "from src.data.risk_free import (\n",
    "    RiskFreeConfig,\n",
    "    RiskFreeProvider,\n",
    "    cont_to_simple,\n",
    "    simple_to_cont,\n",
    "    cont_to_apy,\n",
    ")\n",
    "\n",
    "# Processing\n",
    "from src.preprocess.midprice import add_midprice_columns\n",
    "from src.preprocess.pcp import pcp_residual\n",
    "from src.preprocess.forward import (\n",
    "    yearfrac,\n",
    "    estimate_forward_from_chain,\n",
    "    log_moneyness,\n",
    ")\n",
    "\n",
    "# Vol\n",
    "from src.vol.no_arb import butterfly_violations\n",
    "\n",
    "try:\n",
    "    from src.vol.no_arb import calendar_violations\n",
    "except ImportError:\n",
    "    calendar_violations = None\n",
    "from src.vol.svi import calibrate_svi_from_quotes, svi_total_variance\n",
    "from src.vol.surface import _implied_vol_black76_call\n",
    "\n",
    "# Density\n",
    "from src.density.bl import bl_pdf_from_calls\n",
    "from src.density.cdf import build_cdf, moments_from_pdf\n",
    "\n",
    "# ---------- User config ----------\n",
    "TICKER = os.getenv(\"OVIZ_TICKER\", \"NVDA\")\n",
    "NUM_EXPIRIES = int(\n",
    "    os.getenv(\"OVIZ_NUM_EXPIRIES\", \"3\")\n",
    ")  # how many nearby expiries to analyze\n",
    "WIDE_REL = 0.20  # midprice wide threshold\n",
    "DEFAULT_R = float(\n",
    "    os.getenv(\"OVIZ_R_CONT\", \"0.045\")\n",
    ")  # fallback continuous rate\n",
    "\n",
    "assert os.getenv(\n",
    "    \"POLYGON_API_KEY\"\n",
    "), \"POLYGON_API_KEY is required in your environment.\"\n",
    "print(\"Ticker:\", TICKER, \"| Expiries to analyze:\", NUM_EXPIRIES)"
   ]
  },
  {
   "cell_type": "markdown",
   "id": "2d3d95b0",
   "metadata": {},
   "source": [
    "## 3) Fetch expiries & select sample maturities"
   ]
  },
  {
   "cell_type": "code",
   "execution_count": 4,
   "id": "bce49bfb",
   "metadata": {},
   "outputs": [
    {
     "ename": "RuntimeError",
     "evalue": "asyncio.run() cannot be called from a running event loop",
     "output_type": "error",
     "traceback": [
      "\u001b[31m---------------------------------------------------------------------------\u001b[39m",
      "\u001b[31mRuntimeError\u001b[39m                              Traceback (most recent call last)",
      "\u001b[36mCell\u001b[39m\u001b[36m \u001b[39m\u001b[32mIn[4]\u001b[39m\u001b[32m, line 10\u001b[39m\n\u001b[32m      7\u001b[39m     exps_sorted = \u001b[38;5;28msorted\u001b[39m([e \u001b[38;5;28;01mfor\u001b[39;00m e \u001b[38;5;129;01min\u001b[39;00m exps \u001b[38;5;28;01mif\u001b[39;00m (e.date() - today).days >= \u001b[32m10\u001b[39m])\n\u001b[32m      8\u001b[39m     \u001b[38;5;28;01mreturn\u001b[39;00m exps_sorted[:NUM_EXPIRIES] \u001b[38;5;28;01mif\u001b[39;00m exps_sorted \u001b[38;5;28;01melse\u001b[39;00m \u001b[38;5;28msorted\u001b[39m(exps)[:NUM_EXPIRIES]\n\u001b[32m---> \u001b[39m\u001b[32m10\u001b[39m expiries = \u001b[43masyncio\u001b[49m\u001b[43m.\u001b[49m\u001b[43mrun\u001b[49m\u001b[43m(\u001b[49m\u001b[43mget_expiries\u001b[49m\u001b[43m(\u001b[49m\u001b[43mTICKER\u001b[49m\u001b[43m)\u001b[49m\u001b[43m)\u001b[49m\n\u001b[32m     11\u001b[39m \u001b[38;5;28mprint\u001b[39m(\u001b[33m\"\u001b[39m\u001b[33mChosen expiries:\u001b[39m\u001b[33m\"\u001b[39m, [e.date().isoformat() \u001b[38;5;28;01mfor\u001b[39;00m e \u001b[38;5;129;01min\u001b[39;00m expiries])\n\u001b[32m     12\u001b[39m \u001b[38;5;28;01massert\u001b[39;00m expiries, \u001b[33m\"\u001b[39m\u001b[33mNo expiries returned. Check API key/ticker.\u001b[39m\u001b[33m\"\u001b[39m\n",
      "\u001b[36mFile \u001b[39m\u001b[32mC:\\Program Files\\WindowsApps\\PythonSoftwareFoundation.Python.3.13_3.13.2032.0_x64__qbz5n2kfra8p0\\Lib\\asyncio\\runners.py:191\u001b[39m, in \u001b[36mrun\u001b[39m\u001b[34m(main, debug, loop_factory)\u001b[39m\n\u001b[32m    161\u001b[39m \u001b[38;5;250m\u001b[39m\u001b[33;03m\"\"\"Execute the coroutine and return the result.\u001b[39;00m\n\u001b[32m    162\u001b[39m \n\u001b[32m    163\u001b[39m \u001b[33;03mThis function runs the passed coroutine, taking care of\u001b[39;00m\n\u001b[32m   (...)\u001b[39m\u001b[32m    187\u001b[39m \u001b[33;03m    asyncio.run(main())\u001b[39;00m\n\u001b[32m    188\u001b[39m \u001b[33;03m\"\"\"\u001b[39;00m\n\u001b[32m    189\u001b[39m \u001b[38;5;28;01mif\u001b[39;00m events._get_running_loop() \u001b[38;5;129;01mis\u001b[39;00m \u001b[38;5;129;01mnot\u001b[39;00m \u001b[38;5;28;01mNone\u001b[39;00m:\n\u001b[32m    190\u001b[39m     \u001b[38;5;66;03m# fail fast with short traceback\u001b[39;00m\n\u001b[32m--> \u001b[39m\u001b[32m191\u001b[39m     \u001b[38;5;28;01mraise\u001b[39;00m \u001b[38;5;167;01mRuntimeError\u001b[39;00m(\n\u001b[32m    192\u001b[39m         \u001b[33m\"\u001b[39m\u001b[33masyncio.run() cannot be called from a running event loop\u001b[39m\u001b[33m\"\u001b[39m)\n\u001b[32m    194\u001b[39m \u001b[38;5;28;01mwith\u001b[39;00m Runner(debug=debug, loop_factory=loop_factory) \u001b[38;5;28;01mas\u001b[39;00m runner:\n\u001b[32m    195\u001b[39m     \u001b[38;5;28;01mreturn\u001b[39;00m runner.run(main)\n",
      "\u001b[31mRuntimeError\u001b[39m: asyncio.run() cannot be called from a running event loop"
     ]
    }
   ],
   "source": [
    "async def get_expiries(sym: str):\n",
    "    f = PolygonFetcher()\n",
    "    exps = await f.list_expiries(sym)\n",
    "    await f.client.aclose()\n",
    "    # choose the nearest NUM_EXPIRIES expiries >= 10d out\n",
    "    today = datetime.now(timezone.utc).date()\n",
    "    exps_sorted = sorted([e for e in exps if (e.date() - today).days >= 10])\n",
    "    return (\n",
    "        exps_sorted[:NUM_EXPIRIES]\n",
    "        if exps_sorted\n",
    "        else sorted(exps)[:NUM_EXPIRIES]\n",
    "    )\n",
    "\n",
    "\n",
    "expiries = asyncio.run(get_expiries(TICKER))\n",
    "print(\"Chosen expiries:\", [e.date().isoformat() for e in expiries])\n",
    "assert expiries, \"No expiries returned. Check API key/ticker.\""
   ]
  },
  {
   "cell_type": "markdown",
   "id": "7fe41f8c",
   "metadata": {},
   "source": [
    "## 4) Fetch chains → normalize → midprice & quality plots"
   ]
  },
  {
   "cell_type": "code",
   "execution_count": 5,
   "id": "be0fbd83",
   "metadata": {},
   "outputs": [
    {
     "ename": "NameError",
     "evalue": "name 'expiries' is not defined",
     "output_type": "error",
     "traceback": [
      "\u001b[31m---------------------------------------------------------------------------\u001b[39m",
      "\u001b[31mNameError\u001b[39m                                 Traceback (most recent call last)",
      "\u001b[36mCell\u001b[39m\u001b[36m \u001b[39m\u001b[32mIn[5]\u001b[39m\u001b[32m, line 7\u001b[39m\n\u001b[32m      4\u001b[39m     \u001b[38;5;28;01mawait\u001b[39;00m f.client.aclose()\n\u001b[32m      5\u001b[39m     \u001b[38;5;28;01mreturn\u001b[39;00m ch\n\u001b[32m----> \u001b[39m\u001b[32m7\u001b[39m chains = [asyncio.run(fetch_chain(TICKER, e)) \u001b[38;5;28;01mfor\u001b[39;00m e \u001b[38;5;129;01min\u001b[39;00m \u001b[43mexpiries\u001b[49m]\n\u001b[32m      8\u001b[39m dfs = [chain_to_dataframe(ch) \u001b[38;5;28;01mfor\u001b[39;00m ch \u001b[38;5;129;01min\u001b[39;00m chains]\n\u001b[32m     10\u001b[39m \u001b[38;5;66;03m# Add midprice diagnostics\u001b[39;00m\n",
      "\u001b[31mNameError\u001b[39m: name 'expiries' is not defined"
     ]
    }
   ],
   "source": [
    "async def fetch_chain(sym: str, expiry_dt: datetime) -> OptionChain:\n",
    "    f = PolygonFetcher()\n",
    "    ch = await f.fetch_chain(sym, expiry_dt)\n",
    "    await f.client.aclose()\n",
    "    return ch\n",
    "\n",
    "\n",
    "chains = [asyncio.run(fetch_chain(TICKER, e)) for e in expiries]\n",
    "dfs = [chain_to_dataframe(ch) for ch in chains]\n",
    "\n",
    "# Add midprice diagnostics\n",
    "dfc = []\n",
    "for df in dfs:\n",
    "    out = add_midprice_columns(\n",
    "        df.rename(columns={\"type\": \"opt_type\"}).rename(\n",
    "            columns={\"opt_type\": \"type\"}\n",
    "        ),\n",
    "        wide_rel_threshold=WIDE_REL,\n",
    "    )\n",
    "    dfc.append(out)\n",
    "\n",
    "# Plot quick quality histograms for first expiry\n",
    "df0 = dfc[0]\n",
    "finite_rel = df0[\"rel_spread\"].replace([np.inf, -np.inf], np.nan).dropna()\n",
    "finite_mid = df0[\"mid\"].replace([np.inf, -np.inf], np.nan).dropna()\n",
    "\n",
    "plt.figure(figsize=(7.5, 4.5))\n",
    "plt.title(\"Midprice distribution (first expiry)\")\n",
    "plt.hist(finite_mid.values, bins=30)\n",
    "plt.xlabel(\"mid\")\n",
    "plt.ylabel(\"count\")\n",
    "plt.show()\n",
    "\n",
    "plt.figure(figsize=(7.5, 4.5))\n",
    "plt.title(\"Relative spread distribution (first expiry)\")\n",
    "plt.hist(finite_rel.values, bins=30)\n",
    "plt.xlabel(\"rel_spread\")\n",
    "plt.ylabel(\"count\")\n",
    "plt.show()\n",
    "\n",
    "print(\"Rows per expiry:\", [len(d) for d in dfc])"
   ]
  },
  {
   "cell_type": "markdown",
   "id": "1f3f663d",
   "metadata": {},
   "source": [
    "## 5) Estimate forward via PCP and build k-grid"
   ]
  },
  {
   "cell_type": "code",
   "execution_count": null,
   "id": "5fd83ff0",
   "metadata": {},
   "outputs": [],
   "source": [
    "rf = RiskFreeProvider(RiskFreeConfig(default_rate=DEFAULT_R))\n",
    "\n",
    "for i, (exp, df) in enumerate(zip(expiries, dfc), start=1):\n",
    "    T = yearfrac(datetime.now(timezone.utc), exp)\n",
    "    r_cont = rf.get_rate(\n",
    "        datetime.now(timezone.utc), tenor_days=max(1, int(T * 365))\n",
    "    )\n",
    "    F = estimate_forward_from_chain(df, r=r_cont, T=T, price_col=\"mid\")\n",
    "    k = log_moneyness(df[\"strike\"].values, F)\n",
    "    print(f\"[{i}] {exp.date()}  T={T:.4f}  r={r_cont:.4f}  F≈{F:.4f}\")"
   ]
  },
  {
   "cell_type": "markdown",
   "id": "004ccf50",
   "metadata": {},
   "source": [
    "## 6) Implied vols — prefer provided IV, else solve from mid calls"
   ]
  },
  {
   "cell_type": "code",
   "execution_count": null,
   "id": "af0917a0",
   "metadata": {},
   "outputs": [],
   "source": [
    "def compute_iv_series(df, F, T, r):\n",
    "    # Prefer 'iv' column if present and finite\n",
    "    if \"iv\" in df.columns and np.isfinite(df[\"iv\"].astype(float)).any():\n",
    "        iv = pd.to_numeric(df[\"iv\"], errors=\"coerce\")\n",
    "        return iv.values.astype(float)\n",
    "    # Else solve from call mids only to keep it simple\n",
    "    Df = math.exp(-r * T)\n",
    "    ivs = []\n",
    "    for _, row in df.iterrows():\n",
    "        if (\n",
    "            row[\"type\"] == \"C\"\n",
    "            and row[\"mid\"]\n",
    "            and row[\"mid\"] > 0\n",
    "            and row[\"strike\"] > 0\n",
    "        ):\n",
    "            ivs.append(\n",
    "                _implied_vol_black76_call(\n",
    "                    C=float(row[\"mid\"]),\n",
    "                    F=float(F),\n",
    "                    K=float(row[\"strike\"]),\n",
    "                    T=float(T),\n",
    "                    Df=float(Df),\n",
    "                )\n",
    "            )\n",
    "        else:\n",
    "            ivs.append(np.nan)\n",
    "    return np.array(ivs, dtype=float)\n",
    "\n",
    "\n",
    "iv_grids = []\n",
    "for exp, df in zip(expiries, dfc):\n",
    "    T = yearfrac(datetime.now(timezone.utc), exp)\n",
    "    r = rf.get_rate(\n",
    "        datetime.now(timezone.utc), tenor_days=max(1, int(T * 365))\n",
    "    )\n",
    "    F = estimate_forward_from_chain(df, r=r, T=T, price_col=\"mid\")\n",
    "    iv = compute_iv_series(df, F, T, r)\n",
    "    k = log_moneyness(df[\"strike\"].values, F)\n",
    "    mask = np.isfinite(iv) & np.isfinite(k)\n",
    "    iv_grids.append((exp, k[mask], iv[mask], T, F, r))\n",
    "\n",
    "# Plot smiles (IV vs k) for each expiry\n",
    "for exp, k, iv, T, F, r in iv_grids:\n",
    "    plt.figure(figsize=(7.5, 4.5))\n",
    "    plt.title(f\"Smile (IV vs k) — {exp.date()}\")\n",
    "    plt.scatter(k, iv, s=12)\n",
    "    plt.xlabel(\"k = ln(K/F)\")\n",
    "    plt.ylabel(\"implied vol\")\n",
    "    plt.show()"
   ]
  },
  {
   "cell_type": "markdown",
   "id": "e2ae18c7",
   "metadata": {},
   "source": [
    "## 7) SVI fits per expiry — observed vs fitted total variance"
   ]
  },
  {
   "cell_type": "code",
   "execution_count": null,
   "id": "e1cac7cb",
   "metadata": {},
   "outputs": [],
   "source": [
    "svi_fits = []\n",
    "for exp, k, iv, T, F, r in iv_grids:\n",
    "    w = iv**2 * T\n",
    "    fit = calibrate_svi_from_quotes(k=k, w=w, T=T)\n",
    "    w_fit = svi_total_variance(k, *fit.params)\n",
    "    svi_fits.append((exp, k, w, w_fit, T, fit))\n",
    "    plt.figure(figsize=(7.5, 4.5))\n",
    "    plt.title(f\"SVI fit — {exp.date()}\")\n",
    "    plt.scatter(k, w, s=12, label=\"observed w\")\n",
    "    plt.plot(k, w_fit, label=\"SVI w(k)\")\n",
    "    plt.xlabel(\"k\")\n",
    "    plt.ylabel(\"total variance w\")\n",
    "    plt.legend()\n",
    "    plt.show()\n",
    "\n",
    "# Print params\n",
    "for exp, k, w, w_fit, T, fit in svi_fits:\n",
    "    print(\n",
    "        f\"{exp.date()} params:\",\n",
    "        fit.params,\n",
    "        \"loss:\",\n",
    "        fit.loss,\n",
    "        \"n_used:\",\n",
    "        fit.n_used,\n",
    "    )"
   ]
  },
  {
   "cell_type": "markdown",
   "id": "1299eef3",
   "metadata": {},
   "source": [
    "## 8) Surface sketch — calendar monotonicity spot check"
   ]
  },
  {
   "cell_type": "code",
   "execution_count": null,
   "id": "0217c2dc",
   "metadata": {},
   "outputs": [],
   "source": [
    "# Choose a common k-grid (intersection) to compare w across expiries\n",
    "if len(svi_fits) >= 2:\n",
    "    k_common = None\n",
    "    for _, k, _, _, _, _ in svi_fits:\n",
    "        k_round = np.round(k, 3)\n",
    "        k_set = set(k_round)\n",
    "        k_common = k_set if k_common is None else (k_common & k_set)\n",
    "    k_common = np.array(sorted(list(k_common))) if k_common else None\n",
    "\n",
    "    if k_common is not None and len(k_common) >= 5:\n",
    "        plt.figure(figsize=(7.5, 4.5))\n",
    "        plt.title(\"SVI w(k) across maturities (common k)\")\n",
    "        for exp, k, _, _, T, fit in svi_fits:\n",
    "            w_line = svi_total_variance(k_common, *fit.params)\n",
    "            plt.plot(k_common, w_line, label=f\"{exp.date()} (T={T:.2f})\")\n",
    "        plt.xlabel(\"k\")\n",
    "        plt.ylabel(\"w(k,T)\")\n",
    "        plt.legend()\n",
    "        plt.show()"
   ]
  },
  {
   "cell_type": "markdown",
   "id": "9275bba2",
   "metadata": {},
   "source": [
    "## 9) BL density — recover PDF/CDF from a smoothed call curve"
   ]
  },
  {
   "cell_type": "code",
   "execution_count": null,
   "id": "007f764d",
   "metadata": {},
   "outputs": [],
   "source": [
    "# Use the *first* expiry for a density demo (calls only)\n",
    "exp, df = expiries[0], dfc[0]\n",
    "T = yearfrac(datetime.now(timezone.utc), exp)\n",
    "r = rf.get_rate(datetime.now(timezone.utc), tenor_days=max(1, int(T * 365)))\n",
    "F = estimate_forward_from_chain(df, r=r, T=T, price_col=\"mid\")\n",
    "\n",
    "# Build a discounted call curve C(K) on a cleaned grid\n",
    "kk = df[\"strike\"].values.astype(float)\n",
    "cc = df[\"mid\"].values.astype(float)\n",
    "mask = np.isfinite(kk) & np.isfinite(cc) & (cc > 0) & (kk > 0)\n",
    "K = kk[mask]\n",
    "C = cc[mask]\n",
    "# Discount to undiscounted forward numeraire if needed; our bl implementation expects undiscounted C or handles exp(rT) internally.\n",
    "K_grid, pdf, _ = bl_pdf_from_calls(K, C, T=T, r=r, grid_n=801)\n",
    "Kg, cdf = build_cdf(K_grid, np.maximum(pdf, 0.0))\n",
    "mom = moments_from_pdf(Kg, np.maximum(pdf, 0.0))\n",
    "\n",
    "plt.figure(figsize=(7.5, 4.5))\n",
    "plt.title(f\"Recovered PDF — {exp.date()}\")\n",
    "plt.plot(K_grid, np.maximum(pdf, 0.0))\n",
    "plt.xlabel(\"K\")\n",
    "plt.ylabel(\"pdf(K)\")\n",
    "plt.show()\n",
    "\n",
    "plt.figure(figsize=(7.5, 4.5))\n",
    "plt.title(f\"CDF — {exp.date()}\")\n",
    "plt.plot(Kg, cdf)\n",
    "plt.xlabel(\"K\")\n",
    "plt.ylabel(\"CDF(K)\")\n",
    "plt.show()\n",
    "\n",
    "print(\"RN moments (mean, var, skew, kurt_ex):\", mom)"
   ]
  }
 ],
 "metadata": {
  "kernelspec": {
   "display_name": ".venv",
   "language": "python",
   "name": "python3"
  },
  "language_info": {
   "codemirror_mode": {
    "name": "ipython",
    "version": 3
   },
   "file_extension": ".py",
   "mimetype": "text/x-python",
   "name": "python",
   "nbconvert_exporter": "python",
   "pygments_lexer": "ipython3",
   "version": "3.13.7"
  }
 },
 "nbformat": 4,
 "nbformat_minor": 5
}
